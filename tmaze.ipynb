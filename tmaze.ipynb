{
 "cells": [
  {
   "cell_type": "markdown",
   "id": "42c357b3",
   "metadata": {},
   "source": [
    "## 能動的推論(AIF)とは"
   ]
  },
  {
   "cell_type": "markdown",
   "id": "41a7c3a0",
   "metadata": {},
   "source": [
    "\n",
    "環境にて観測が潜在変数により生成される**生成プロセス**が存在し、そのプロセスを模倣した**生成モデル**をエージェントが内部に持つと仮定(例えばPOMDP)、エージェントはこの生成モデルをなるべく生成プロセスに近づけたいとする。AIFエージェントは得られた観測から生成モデルの潜在変数の分布を変分ベイズ推論(変分自由エネルギー(VFE)の最小化)により更新し生成モデルを生成プロセスに近づけ(**知覚**)、またポリシー(RLの方策とは異なり、行為系列のこと)を期待される将来の変分自由エネルギーが小さくなるように求め(負の**期待自由エネルギー(EFE)**からポリシーの分布を得る)、生成プロセスが生成モデルに近づくように**行動**する。またより遅い時間スケールで、生成モデル(尤度、遷移確率など)のパラメータのベイズ推論により生成モデルの構造自体を**学習**する。\n",
    "\n",
    "RLと違い収益最大化が目的ではなく、エージェントの**選好**は(通常)観測の事前分布としてエンコードされており、ポリシーの推論時に用いられ行動に反映される。例えば選好の分布において低い確率を持つ観測(例えばペナルティ)が得られそうなポリシーに対しては、期待自由エネルギーにおけるサプライズの期待値の項が大きくなり、エージェントのポリシーとして選ばれる確率は小さくなる。また、しばしばポリシーの事前分布が定義され、エージェントのくせ・習慣を表現する。\n",
    "\n",
    "ポリシーの分布は各(負の)期待自由エネルギーの逆温度つきsoftmax(ボルツマン分布)で得られるため、この逆温度(=**精度**)が大きいほど分布は急峻になり、エージェントがこの行動選択過程(期待自由エネルギーによる推論)に対して自信を持つことに対応する。尤度、遷移確率など他の分布で精度を扱うこともあり(対数スコアのボルツマン分布における逆温度など)、また精度の事前分布を考えることで生成モデル同様に精度を学習(推論)することができる。\n",
    "\n",
    "AIFは人間の知覚・行動のモデルとして、計算論的精神医学、心理学、機械工学などさまざまな分野で注目されている。\n",
    "\n",
    "詳しくは[Active Inference: The Free Energy Principle in Mind, Brain, and Behavior](https://www.amazon.co.jp/Active-Inference-Energy-Principle-Behavior/dp/0262045354)など。\n",
    "\n",
    "今回は[pymdpライブラリ](https://github.com/infer-actively/pymdp/tree/master)を用いて、POMDPにおける能動的推論エージェントを実装する。"
   ]
  },
  {
   "cell_type": "code",
   "execution_count": null,
   "id": "1db78d10",
   "metadata": {},
   "outputs": [],
   "source": [
    "### ライブラリのインポート\n",
    "import os\n",
    "import sys\n",
    "import pathlib\n",
    "import numpy as np\n",
    "import copy\n",
    "\n",
    "path = pathlib.Path(os.getcwd())\n",
    "module_path = str(path.parent) + '/'\n",
    "sys.path.append(module_path)\n",
    "\n",
    "!pip install inferactively-pymdp \n",
    "import pymdp\n",
    "from pymdp.agent import Agent\n",
    "from pymdp.utils import plot_beliefs, plot_likelihood\n",
    "from pymdp import utils\n",
    "from pymdp.envs import TMazeEnvNullOutcome"
   ]
  },
  {
   "cell_type": "markdown",
   "id": "7289871a",
   "metadata": {},
   "source": [
    "## T-Mazeとは"
   ]
  },
  {
   "cell_type": "markdown",
   "id": "5483fd9e",
   "metadata": {},
   "source": [
    "[wikipedia](https://en.wikipedia.org/wiki/T-maze)\n",
    "\n",
    "ここでは、左右の腕に報酬またはペナルティが、下に報酬の位置についての手がかり(L/R)があるシンプルな4マスのT迷路を考える。"
   ]
  },
  {
   "cell_type": "markdown",
   "id": "afc38817",
   "metadata": {},
   "source": [
    "## 実装"
   ]
  },
  {
   "cell_type": "markdown",
   "id": "5f61a42e",
   "metadata": {},
   "source": [
    "### a.生成プロセス・モデル定義"
   ]
  },
  {
   "cell_type": "code",
   "execution_count": 2,
   "id": "592e7f93",
   "metadata": {},
   "outputs": [],
   "source": [
    "# 真の環境(生成プロセス)\n",
    "\n",
    "reward_probabilities = [0.85, 0.15] #左右の腕の報酬確率 (あたり側は高確率でreward低確率でloss,ハズレ側は高確率でloss低確率でreward 腕以外の場所ではno reward)\n",
    "env = TMazeEnvNullOutcome(reward_probs = reward_probabilities) #環境の設定\n",
    "A_gp = env.get_likelihood_dist() #生成プロセスの尤度パラメータ　 このカテゴリ分布が生成プロセスの尤度p(y|x)\n",
    "B_gp = env.get_transition_dist() #生成プロセスの遷移確率パラメータ　 このカテゴリ分布が生成プロセスの遷移確率p(x_(t+1)|x_t,π)\n",
    "\n",
    "\n",
    "\n",
    "# 生成モデル\n",
    "pA = utils.dirichlet_like(A_gp, scale = 1e16) # 生成モデルの尤度パラメータA_gmの、(ディリクレ)事前分布のパラメータ 基本的に、正しい(生成プロセスの)内容を間違いないと信じている(1e16)と仮定\n",
    "pA[1][1:,1:3,:] = 1.0 # 左右の腕で報酬(あたり/ハズレ)を観測する確率についてのみ、自信がない(1.0)と仮定(学習対象)\n",
    "A_gm = utils.norm_dist_obj_arr(pA) # 生成モデルの尤度パラメータ 　pAを正規化して(カテゴリ)尤度分布パラメータに変換\n",
    "B_gm = copy.deepcopy(B_gp) # 生成モデルの遷移確率パラメータ　 ここでは完全に正しいと仮定\n",
    "\n",
    "\n",
    "\n",
    "# エージェントの設定\n",
    "controllable_indices = [0] # 潜在変数のうち、位置は制御可能\n",
    "learnable_modalities = [1] # 観測のうち、報酬については学習可能\n",
    "\n",
    "\n",
    "\n",
    "agent = Agent(A=A_gm,pA=pA,B=B_gm,\n",
    "control_fac_idx=controllable_indices,\n",
    "modalities_to_learn=learnable_modalities,\n",
    "lr_pA = 0.25, # 学習率\n",
    "use_param_info_gain=True) # エージェントは情報を得て不確実性を解消するためのモチベーション(好奇心)を持つ\n",
    "\n",
    "\n",
    "\n",
    "# 選好 (このCを正規化したものが観測の(カテゴリ)事前分布のパラメータ)\n",
    "agent.C[1][1] = 2.0 # 報酬モダリティにおいて、rewardへの選好\n",
    "agent.C[1][2] = -2.0 # lossへの選好\n",
    "\n",
    "#　他は一様\n",
    "\n",
    "\n",
    "\n",
    "# 初期信念の設定(潜在変数の(カテゴリ)事前分布のパラメータ)\n",
    "agent.D[0] = utils.onehot(0, agent.num_states[0]) # 初期位置はCENTERと(正しく)信じている\n",
    "\n",
    "#　他は一様"
   ]
  },
  {
   "cell_type": "code",
   "execution_count": 3,
   "id": "63e02734",
   "metadata": {},
   "outputs": [
    {
     "data": {
      "image/png": "[encoded data removed]",
      "text/plain": [
       "<Figure size 432x288 with 2 Axes>"
      ]
     },
     "metadata": {
      "needs_background": "light"
     },
     "output_type": "display_data"
    },
    {
     "data": {
      "image/png": "[encoded data removed]",
      "text/plain": [
       "<Figure size 432x288 with 2 Axes>"
      ]
     },
     "metadata": {
      "needs_background": "light"
     },
     "output_type": "display_data"
    },
    {
     "data": {
      "image/png": "[encoded data removed]",
      "text/plain": [
       "<Figure size 432x288 with 2 Axes>"
      ]
     },
     "metadata": {
      "needs_background": "light"
     },
     "output_type": "display_data"
    },
    {
     "data": {
      "image/png": "[encoded data removed]",
      "text/plain": [
       "<Figure size 432x288 with 2 Axes>"
      ]
     },
     "metadata": {
      "needs_background": "light"
     },
     "output_type": "display_data"
    }
   ],
   "source": [
    "# Aのプロット(学習前)\n",
    "plot_likelihood(agent.A[1][1:,:,0]) #生成モデルの報酬(reward,loss)に関する尤度(右があたりの時)\n",
    "plot_likelihood(A_gp[1][1:,:,0]) #生成プロセスの報酬(reward,loss)に関する尤度(右があたりの時)\n",
    "plot_likelihood(agent.A[1][1:,:,1]) #生成モデルの報酬(reward,loss)に関する尤度(左があたりの時)\n",
    "plot_likelihood(A_gp[1][1:,:,1]) #生成プロセスの報酬(reward,loss)に関する尤度(左があたりの時)\n",
    "\n"
   ]
  },
  {
   "cell_type": "markdown",
   "id": "d0e4941a",
   "metadata": {},
   "source": [
    "### b.生成モデル学習"
   ]
  },
  {
   "cell_type": "code",
   "execution_count": null,
   "id": "86e47283",
   "metadata": {},
   "outputs": [],
   "source": [
    "T = 1000 # ステップ数\n",
    "n = 100 # エピソード数\n",
    "\n",
    "aif_episode_rewards = []\n",
    "\n",
    "for i in range(n): # エピソード数分繰り返す\n",
    "\n",
    "    agent.reset() # エージェントの信念(潜在変数)をリセット(学習したAはそのまま)\n",
    "    obs = env.reset() # 環境を初期化(あたりが左か右かが決まる)、最初の観測を得る\n",
    "\n",
    "\n",
    "    reward_conditions = [\"Right Arm Better\", \"Left arm Better\"] # どっちがあたりの環境か\n",
    "    location_observations = ['CENTER','RIGHT ARM','LEFT ARM','CUE LOCATION'] # 位置の観測\n",
    "    reward_observations = ['No reward','Reward!','Loss!'] # 報酬の観測\n",
    "    cue_observations = ['Null','Cue Right','Cue Left'] #　手がかりの観測\n",
    "    msg = \"\"\" === Starting experiment === \\n Reward condition: {}, Observation: [{}, {}, {}]\"\"\"\n",
    "    print(msg.format(reward_conditions[env.reward_condition], location_observations[obs[0]], reward_observations[obs[1]], cue_observations[obs[2]]))\n",
    "\n",
    "\n",
    "\n",
    "    episode_reward = 0\n",
    "\n",
    "\n",
    "    pA_history = []\n",
    "\n",
    "    all_actions = np.zeros((T, 2))\n",
    "    \n",
    "    for t in range(T):\n",
    "\n",
    "\n",
    "\n",
    "        qx = agent.infer_states(obs) # 潜在変数の推論\n",
    "\n",
    "        q_pi, efe = agent.infer_policies() # ポリシーの推論(MPCと類似) 各ポリシーの選択確率(とEFE)を返す デフォルトではポリシーの長さは1(ポリシー＝行動)\n",
    "\n",
    "        action = agent.sample_action() # q_piから行動を選択 ポリシー長が2以上ならその最初の行動を選択\n",
    "\n",
    "        pA_t = agent.update_A(obs) # 観測からpAをベイズ更新→Aを更新\n",
    "\n",
    "        pA_history.append(pA_t)\n",
    "\n",
    "\n",
    "\n",
    "        msg = \"\"\"[Step {}] Action: [Move to {}]\"\"\"\n",
    "        print(msg.format(t, location_observations[int(action[0])]))\n",
    "\n",
    "\n",
    "        obs = env.step(action) # 行動の結果、次の観測を得る\n",
    "        \n",
    "        reward_obs = obs[1]\n",
    "        if reward_obs == 1: reward = 1.0\n",
    "        elif reward_obs == 2: reward = -1.0\n",
    "        else: reward = 0.0\n",
    "            \n",
    "        episode_reward += reward\n",
    "\n",
    "        all_actions[t, :] = action\n",
    "\n",
    "\n",
    "        msg = \"\"\"[Step {}] Observation: [{}, {}, {}]\"\"\"\n",
    "        print(msg.format(t, location_observations[int(obs[0])], reward_observations[int(obs[1])], cue_observations[int(obs[2])]))\n",
    "    \n",
    "    aif_episode_rewards.append(episode_reward)\n"
   ]
  },
  {
   "cell_type": "code",
   "execution_count": 5,
   "id": "d859777d",
   "metadata": {},
   "outputs": [
    {
     "data": {
      "image/png": "[encoded data removed]",
      "text/plain": [
       "<Figure size 432x288 with 1 Axes>"
      ]
     },
     "metadata": {
      "needs_background": "light"
     },
     "output_type": "display_data"
    }
   ],
   "source": [
    "import matplotlib.pyplot as plt\n",
    "\n",
    "plt.plot(aif_episode_rewards)\n",
    "plt.title('Training Rewards')\n",
    "plt.xlabel('Episode')\n",
    "plt.ylabel('Total Reward per Episode')\n",
    "plt.show()"
   ]
  },
  {
   "cell_type": "markdown",
   "id": "a08a5857",
   "metadata": {},
   "source": [
    "### c.推論"
   ]
  },
  {
   "cell_type": "code",
   "execution_count": 6,
   "id": "0c06b7db",
   "metadata": {},
   "outputs": [
    {
     "data": {
      "image/png": "[encoded data removed]",
      "text/plain": [
       "<Figure size 432x288 with 2 Axes>"
      ]
     },
     "metadata": {
      "needs_background": "light"
     },
     "output_type": "display_data"
    },
    {
     "data": {
      "image/png": "[encoded data removed]",
      "text/plain": [
       "<Figure size 432x288 with 2 Axes>"
      ]
     },
     "metadata": {
      "needs_background": "light"
     },
     "output_type": "display_data"
    },
    {
     "data": {
      "image/png": "[encoded data removed]",
      "text/plain": [
       "<Figure size 432x288 with 2 Axes>"
      ]
     },
     "metadata": {
      "needs_background": "light"
     },
     "output_type": "display_data"
    },
    {
     "data": {
      "image/png": "[encoded data removed]",
      "text/plain": [
       "<Figure size 432x288 with 2 Axes>"
      ]
     },
     "metadata": {
      "needs_background": "light"
     },
     "output_type": "display_data"
    }
   ],
   "source": [
    "\n",
    "# Aのプロット(学習後)\n",
    "plot_likelihood(agent.A[1][1:,:,0]) #生成モデルの報酬(reward,loss)に関する尤度(右があたりの時)\n",
    "plot_likelihood(A_gp[1][1:,:,0]) #生成プロセスの報酬(reward,loss)に関する尤度(右があたりの時)\n",
    "plot_likelihood(agent.A[1][1:,:,1]) #生成モデルの報酬(reward,loss)に関する尤度(左があたりの時)\n",
    "plot_likelihood(A_gp[1][1:,:,1]) #生成プロセスの報酬(reward,loss)に関する尤度(左があたりの時)\n",
    "\n"
   ]
  },
  {
   "cell_type": "code",
   "execution_count": 7,
   "id": "bd9c46d6",
   "metadata": {},
   "outputs": [
    {
     "name": "stdout",
     "output_type": "stream",
     "text": [
      " === Starting experiment === \n",
      " Reward condition: Left arm Better, Observation: [CENTER, No reward, Null]\n",
      "[Step 0] Action: [Move to CUE LOCATION]\n",
      "[Step 0] Observation: [CUE LOCATION, No reward, Cue Left]\n",
      "[Step 1] Action: [Move to LEFT ARM]\n",
      "[Step 1] Observation: [LEFT ARM, Reward!, Null]\n",
      "[Step 2] Action: [Move to LEFT ARM]\n",
      "[Step 2] Observation: [LEFT ARM, Reward!, Null]\n",
      "[Step 3] Action: [Move to LEFT ARM]\n",
      "[Step 3] Observation: [LEFT ARM, Reward!, Null]\n",
      "[Step 4] Action: [Move to LEFT ARM]\n",
      "[Step 4] Observation: [LEFT ARM, Reward!, Null]\n",
      "[Step 5] Action: [Move to LEFT ARM]\n",
      "[Step 5] Observation: [LEFT ARM, Loss!, Null]\n",
      "[Step 6] Action: [Move to LEFT ARM]\n",
      "[Step 6] Observation: [LEFT ARM, Reward!, Null]\n",
      "[Step 7] Action: [Move to LEFT ARM]\n",
      "[Step 7] Observation: [LEFT ARM, Reward!, Null]\n",
      "[Step 8] Action: [Move to LEFT ARM]\n",
      "[Step 8] Observation: [LEFT ARM, Reward!, Null]\n",
      "[Step 9] Action: [Move to LEFT ARM]\n",
      "[Step 9] Observation: [LEFT ARM, Reward!, Null]\n"
     ]
    }
   ],
   "source": [
    "T = 10 # ステップ数\n",
    "\n",
    "agent.use_param_info_gain = False #好奇心(探索)をオフ\n",
    "\n",
    "\n",
    "agent.reset() # エージェントの信念をリセット(学習したAはそのまま)\n",
    "obs = env.reset() # 環境を初期化(あたりが左か右かが決まる)、最初の観測を得る\n",
    "\n",
    "\n",
    "reward_conditions = [\"Right Arm Better\", \"Left arm Better\"] # どっちがあたりの環境か\n",
    "location_observations = ['CENTER','RIGHT ARM','LEFT ARM','CUE LOCATION'] # 位置の観測\n",
    "reward_observations = ['No reward','Reward!','Loss!'] # 報酬の観測\n",
    "cue_observations = ['Null','Cue Right','Cue Left'] #　手がかりの観測\n",
    "msg = \"\"\" === Starting experiment === \\n Reward condition: {}, Observation: [{}, {}, {}]\"\"\"\n",
    "print(msg.format(reward_conditions[env.reward_condition], location_observations[obs[0]], reward_observations[obs[1]], cue_observations[obs[2]]))\n",
    "\n",
    "\n",
    "all_actions = np.zeros((T, 2))\n",
    "\n",
    "for t in range(T):\n",
    "\n",
    "    qx = agent.infer_states(obs) # 潜在変数の推論\n",
    "\n",
    "    q_pi, efe = agent.infer_policies() # ポリシーの推論(MPCと類似) 各ポリシーの選択確率(とEFE)を返す デフォルトではポリシーの長さは1(ポリシー＝行動)\n",
    "\n",
    "    action = agent.sample_action() # q_piから行動を選択 ポリシー長が2以上ならその最初の行動を選択\n",
    "\n",
    "\n",
    "    msg = \"\"\"[Step {}] Action: [Move to {}]\"\"\"\n",
    "    print(msg.format(t, location_observations[int(action[0])]))\n",
    "\n",
    "    obs = env.step(action) # 行動の結果、次の観測を得る\n",
    "\n",
    "    all_actions[t,:] = action\n",
    "\n",
    "    msg = \"\"\"[Step {}] Observation: [{}, {}, {}]\"\"\"\n",
    "    print(msg.format(t, location_observations[int(obs[0])], reward_observations[int(obs[1])], cue_observations[int(obs[2])]))"
   ]
  },
  {
   "cell_type": "markdown",
   "id": "a2bbf390",
   "metadata": {},
   "source": [
    "### d.RL(Q学習)の実装と比較"
   ]
  },
  {
   "cell_type": "markdown",
   "id": "e01ab8aa",
   "metadata": {},
   "source": [
    "ここでは単純なQ学習アルゴリズムを同様の環境で実装した。(POMDPに適した実装でないため当然だが、)環境の変化(右/左があたり)を捉えられずうまく学習できない。"
   ]
  },
  {
   "cell_type": "code",
   "execution_count": 8,
   "id": "e316a7bb",
   "metadata": {},
   "outputs": [],
   "source": [
    "class QLearningAgent:\n",
    "\n",
    "    def __init__(self, num_states, num_actions, gamma=0.99, alpha=0.1):\n",
    "        self.num_actions = num_actions\n",
    "        self.gamma = gamma      # 割引率\n",
    "        self.alpha = alpha      # 学習率\n",
    "        self.qtable = np.zeros((num_states, num_actions))\n",
    "\n",
    "    def update_q_table(self, state, action, reward, next_state):\n",
    "        self.qtable[state, action] = (1 - self.alpha) *  self.qtable[state, action] + self.alpha* (reward + self.gamma * self.qtable[next_state].max())\n",
    "\n",
    "    def get_greedy_action(self, state):\n",
    "        return np.argmax(self.qtable[state])\n",
    "\n",
    "    def get_action(self, state, episode):\n",
    "        epsilon = 0.7 * (1/(episode+1))  # ここでは0.5から減衰していくようなεを設定\n",
    "        if epsilon <= np.random.uniform(0,1):\n",
    "            action = self.get_greedy_action(state)\n",
    "        else:\n",
    "            action = np.random.choice(self.num_actions)\n",
    "        return action\n",
    "\n",
    "NUM_LOCATIONS = env.num_states[0]\n",
    "NUM_ACTIONS = env.num_controls[0]\n",
    "agent_ql = QLearningAgent(num_states=NUM_LOCATIONS, num_actions=NUM_ACTIONS)\n"
   ]
  },
  {
   "cell_type": "code",
   "execution_count": null,
   "id": "e3e0f9e1",
   "metadata": {},
   "outputs": [],
   "source": [
    "T = 1000 # ステップ数\n",
    "n = 100 # エピソード数\n",
    "\n",
    "\n",
    "reward_conditions = [\"Right Arm Better\", \"Left arm Better\"] # どっちがあたりの環境か\n",
    "location_observations = ['CENTER','RIGHT ARM','LEFT ARM','CUE LOCATION'] # 位置の観測\n",
    "reward_observations = ['No reward','Reward!','Loss!'] # 報酬の観測\n",
    "cue_observations = ['Null','Cue Right','Cue Left'] #　手がかりの観測\n",
    "\n",
    "ql_episode_rewards = []\n",
    "\n",
    "for episode in range(n):\n",
    "    obs = env.reset()\n",
    "    state = obs[0]\n",
    "    episode_reward = 0\n",
    "    msg = \"\"\" === Starting experiment === \\n Reward condition: {}, Observation: [{}, {}, {}]\"\"\"\n",
    "    print(msg.format(reward_conditions[env.reward_condition], location_observations[obs[0]], reward_observations[obs[1]], cue_observations[obs[2]]))\n",
    "\n",
    "\n",
    "    \n",
    "    for t in range(T):\n",
    "        action = agent_ql.get_action(state, episode)\n",
    "        \n",
    "        msg = \"\"\"[Step {}] Action: [Move to {}]\"\"\"\n",
    "        print(msg.format(t, location_observations[int(action)]))\n",
    "\n",
    "        obs = env.step([action,0])\n",
    "        \n",
    "        msg = \"\"\"[Step {}] Observation: [{}, {}, {}]\"\"\"\n",
    "        print(msg.format(t, location_observations[int(obs[0])], reward_observations[int(obs[1])], cue_observations[int(obs[2])]))\n",
    "        \n",
    "        # 観測から報酬を自作\n",
    "        reward_obs = obs[1]\n",
    "        if reward_obs == 1: reward = 1.0\n",
    "        elif reward_obs == 2: reward = -1.0\n",
    "        else: reward = 0.0\n",
    "            \n",
    "        episode_reward += reward\n",
    "        next_state = obs[0]\n",
    "        agent_ql.update_q_table(state, action, reward, next_state)\n",
    "        state = next_state\n",
    "    \n",
    "    ql_episode_rewards.append(episode_reward)\n"
   ]
  },
  {
   "cell_type": "code",
   "execution_count": 10,
   "id": "54f7563d",
   "metadata": {},
   "outputs": [
    {
     "data": {
      "image/png": "[encoded data removed]",
      "text/plain": [
       "<Figure size 432x288 with 1 Axes>"
      ]
     },
     "metadata": {
      "needs_background": "light"
     },
     "output_type": "display_data"
    }
   ],
   "source": [
    "import matplotlib.pyplot as plt\n",
    "\n",
    "plt.plot(ql_episode_rewards)\n",
    "plt.title('Q-Learning Training Rewards')\n",
    "plt.xlabel('Episode')\n",
    "plt.ylabel('Total Reward per Episode')\n",
    "plt.show()"
   ]
  },
  {
   "cell_type": "code",
   "execution_count": 11,
   "id": "609cb3ba",
   "metadata": {},
   "outputs": [
    {
     "name": "stdout",
     "output_type": "stream",
     "text": [
      " === Starting experiment === \n",
      " Reward condition: Right Arm Better, Observation: [CENTER, No reward, Null]\n",
      "[Step 0] Action: [Move to RIGHT ARM]\n",
      "[Step 0] Observation: [RIGHT ARM, Reward!, Null]\n",
      "[Step 1] Action: [Move to LEFT ARM]\n",
      "[Step 1] Observation: [LEFT ARM, Loss!, Null]\n",
      "[Step 2] Action: [Move to LEFT ARM]\n",
      "[Step 2] Observation: [LEFT ARM, Reward!, Null]\n",
      "[Step 3] Action: [Move to LEFT ARM]\n",
      "[Step 3] Observation: [LEFT ARM, Loss!, Null]\n",
      "[Step 4] Action: [Move to LEFT ARM]\n",
      "[Step 4] Observation: [LEFT ARM, Loss!, Null]\n",
      "[Step 5] Action: [Move to LEFT ARM]\n",
      "[Step 5] Observation: [LEFT ARM, Loss!, Null]\n",
      "[Step 6] Action: [Move to LEFT ARM]\n",
      "[Step 6] Observation: [LEFT ARM, Loss!, Null]\n",
      "[Step 7] Action: [Move to LEFT ARM]\n",
      "[Step 7] Observation: [LEFT ARM, Loss!, Null]\n",
      "[Step 8] Action: [Move to LEFT ARM]\n",
      "[Step 8] Observation: [LEFT ARM, Loss!, Null]\n",
      "[Step 9] Action: [Move to LEFT ARM]\n",
      "[Step 9] Observation: [LEFT ARM, Loss!, Null]\n"
     ]
    }
   ],
   "source": [
    "T = 10 # ステップ数\n",
    "\n",
    "\n",
    "ql_episode_rewards = []\n",
    "\n",
    "\n",
    "obs = env.reset()\n",
    "state = obs[0]\n",
    "episode_reward = 0\n",
    "\n",
    "reward_conditions = [\"Right Arm Better\", \"Left arm Better\"] # どっちがあたりの環境か\n",
    "location_observations = ['CENTER','RIGHT ARM','LEFT ARM','CUE LOCATION'] # 位置の観測\n",
    "reward_observations = ['No reward','Reward!','Loss!'] # 報酬の観測\n",
    "cue_observations = ['Null','Cue Right','Cue Left'] #　手がかりの観測\n",
    "msg = \"\"\" === Starting experiment === \\n Reward condition: {}, Observation: [{}, {}, {}]\"\"\"\n",
    "print(msg.format(reward_conditions[env.reward_condition], location_observations[obs[0]], reward_observations[obs[1]], cue_observations[obs[2]]))\n",
    "\n",
    "\n",
    "    \n",
    "for t in range(T):\n",
    "        action = agent_ql.get_greedy_action(state)\n",
    "        \n",
    "        msg = \"\"\"[Step {}] Action: [Move to {}]\"\"\"\n",
    "        print(msg.format(t, location_observations[int(action)]))\n",
    "\n",
    "        obs = env.step([action,0])\n",
    "        msg = \"\"\"[Step {}] Observation: [{}, {}, {}]\"\"\"\n",
    "        print(msg.format(t, location_observations[int(obs[0])], reward_observations[int(obs[1])], cue_observations[int(obs[2])]))\n",
    "        \n",
    "        # 観測から報酬を自作\n",
    "        reward_obs = obs[1]\n",
    "        if reward_obs == 1: reward = 1.0\n",
    "        elif reward_obs == 2: reward = -1.0\n",
    "        else: reward = 0.0\n",
    "            \n",
    "        episode_reward += reward\n",
    "        next_state = obs[0]\n",
    "\n",
    "        state = next_state"
   ]
  },
  {
   "cell_type": "markdown",
   "id": "02fe6cef",
   "metadata": {},
   "source": [
    "## 論文調査"
   ]
  },
  {
   "cell_type": "markdown",
   "id": "525ed919",
   "metadata": {},
   "source": [
    "### AIFとCaIの関係\n",
    "\n",
    "(参考:[On the Relationship of Active Inference and Control as Inference](https://link.springer.com/chapter/10.1007/978-3-030-64919-7_1))\n",
    "\n",
    "AIFとCaIはいずれも変分推論により逐次的意思決定を行う枠組みであり、以下のような共通点・違いが見られる(以下、選好が報酬に比例するものとしている)。\n",
    "\n",
    "- 離散時間において、いずれもMDP/POMDPによる定式化が可能である。ただしCaIでは最適性変数を導入しMDP/POMDPを拡張することによって価値を扱うのに対し、AIFは生成モデルに直接価値をエンコードする。すなわち、CaIエージェントは客観的な世界の表現を回復しその中で目標を追求するのに対し、AIFエージェントは選好に偏った世界の表現をもち、それが現実と一致することを望む。\n",
    "\n",
    "- 特にCaIは(最適性変数=1のもとでの)方策を、AIFは(期待自由エネルギーが小さくなる)行動系列を推論するが、お互いに他方の形式(方策↔︎行動系列)での解釈が可能である。\n",
    "\n",
    "- 選好を観測の事前分布でなく、潜在変数のもとでの観測の尤度にエンコードする(好ましい隠れ状態が存在しそこから好ましい観測が得られるとする)**尤度AIF**を考えると、POMDPの尤度AIFはMDPのCaIと等価となる(尤度AIFにおいて観測は最適性変数のように機能し、観測と価値が統合され自由度がひとつ減る)。なおMDPのAIFはKL制御と等価である。\n",
    "\n",
    "- 一般的にAIFは期待情報利得を扱うため目標志向の探索が自然に行われるが、CaIはエントロピー最大化に基づく探索を行い、内発的価値(好奇心)を自然には持たない。"
   ]
  },
  {
   "cell_type": "markdown",
   "id": "d215abe7",
   "metadata": {},
   "source": [
    "### 深層AIFについて\n",
    "\n",
    "基本的なAIFでは(RLと同じように)低次元かつ離散的な空間でしか扱えないなどの問題がある。画像入力や連続空間での応用のため、深層学習を用いた枠組みが複数提案されている。以下二例を簡単に紹介する。\n",
    "\n",
    "- [Deep Active Inference as Variational Policy Gradients](https://www.sciencedirect.com/science/article/abs/pii/S0022249620300298)\n",
    "\n",
    "主要な確率分布(尤度、遷移確率、(近似)ポリシー、EFE)をDNNで近似しVFE勾配(EFEは二乗誤差勾配)でそれぞれ学習することで、OpenAIGym環境でもDQN,Actor-Criticに劣らない(ときに凌ぐ)性能を見せた。\n",
    "\n",
    "この深層AIFとActor-Criticのような方策勾配更新アルゴリズムを比較すると、深層AIFには方策エントロピー項が追加されている(Control as InferenceからMaxEnt-RLが導かれることからも推察できる)。実際、方策勾配法にエントロピー項を追加し性能が改善することは理論的、経験的に示されている。\n",
    "\n",
    "- [Contrastive Active Inference](https://proceedings.neurips.cc/paper/2021/hash/73c730319cf839f143bf40954448ce39-Abstract.html)\n",
    "\n",
    "\n",
    "強化学習における報酬は通常人間による設計が必要であり、恣意性や欠陥などのリスクがある。一方でAIFは制御目標を自己教師あり学習にて自然に符号化できる可能性があるが、(結局報酬を与えるなど)これはしばしば軽視されている。また、画像入力などの高次元環境において観測の再構成を要する(VAE的な)構成は、AIFの拡張を妨げていると考えられる。\n",
    "\n",
    "尤度ベースのVFE,EFEをそれぞれ対照手法が適用できるよう変換し、DNNを用いて構成された対照能動的推論は、(深層)尤度AIFよりも著しく性能・コストを改善し、(報酬にアクセスしないにも関わらず)Dreamerともほぼ同等の性能を見せた。\n"
   ]
  },
  {
   "cell_type": "markdown",
   "id": "fd8e332f",
   "metadata": {},
   "source": [
    "## 最後に\n",
    "\n",
    "今回のプロジェクトでは、理解のしやすさや基本的なAIFを複雑な環境に適用する難しさから、極めて単純な環境におけるAIFの実装を通じて、AIFという枠組みがどのようにして環境と相互作用し学習・推論するのかについて理解を深めた。昨今は深層学習の利用によりロボット実装など複雑な環境で適用可能なAIFも複数提案されている。今後の調査課題としたい。\n",
    "\n",
    "また当初から興味のあったAIFとCaIの関係について、両者の枠組みはある条件で数学的に一致することが示されているとわかった。そのため今後は、CaIから導かれるSAC,SLACなどとの厳密な対応について実装を通して理解したいと考えている。\n",
    "\n",
    "CaIを介しモデルフリーRLとの関係が示唆されているにも関わらず、AIFは推論によって生成モデルを更新しながらモデルに基づき考えられる行動系列に対してMPCのようなシミュレーションと選択を行うという点で、モデルベースRL(世界モデル)と近しい枠組みであるとも考えられる。モデルベースRLとの関係性についても今後調査したい。"
   ]
  }
 ],
 "metadata": {
  "kernelspec": {
   "display_name": "base",
   "language": "python",
   "name": "python3"
  },
  "language_info": {
   "codemirror_mode": {
    "name": "ipython",
    "version": 3
   },
   "file_extension": ".py",
   "mimetype": "text/x-python",
   "name": "python",
   "nbconvert_exporter": "python",
   "pygments_lexer": "ipython3",
   "version": "3.9.12"
  }
 },
 "nbformat": 4,
 "nbformat_minor": 5
}
